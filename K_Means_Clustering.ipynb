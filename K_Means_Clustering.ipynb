{
 "cells": [
  {
   "cell_type": "markdown",
   "id": "5a99306c",
   "metadata": {},
   "source": [
    "# Unsupervised Learning - K-means clustering"
   ]
  },
  {
   "cell_type": "markdown",
   "id": "f04d81f1",
   "metadata": {},
   "source": [
    "# Here we have to form two clusters for the given dataset::"
   ]
  },
  {
   "cell_type": "code",
   "execution_count": 1,
   "id": "63bb0ac6",
   "metadata": {},
   "outputs": [],
   "source": [
    "## importing required libraries\n",
    "\n",
    "import pandas as pd\n",
    "import numpy as np\n",
    "import matplotlib.pyplot as plt"
   ]
  },
  {
   "cell_type": "code",
   "execution_count": 2,
   "id": "97f4843c",
   "metadata": {},
   "outputs": [
    {
     "data": {
      "text/html": [
       "<div>\n",
       "<style scoped>\n",
       "    .dataframe tbody tr th:only-of-type {\n",
       "        vertical-align: middle;\n",
       "    }\n",
       "\n",
       "    .dataframe tbody tr th {\n",
       "        vertical-align: top;\n",
       "    }\n",
       "\n",
       "    .dataframe thead th {\n",
       "        text-align: right;\n",
       "    }\n",
       "</style>\n",
       "<table border=\"1\" class=\"dataframe\">\n",
       "  <thead>\n",
       "    <tr style=\"text-align: right;\">\n",
       "      <th></th>\n",
       "      <th>Variable_1</th>\n",
       "      <th>Variable_2</th>\n",
       "    </tr>\n",
       "  </thead>\n",
       "  <tbody>\n",
       "    <tr>\n",
       "      <th>0</th>\n",
       "      <td>1.0</td>\n",
       "      <td>1.0</td>\n",
       "    </tr>\n",
       "    <tr>\n",
       "      <th>1</th>\n",
       "      <td>1.5</td>\n",
       "      <td>2.0</td>\n",
       "    </tr>\n",
       "    <tr>\n",
       "      <th>2</th>\n",
       "      <td>3.0</td>\n",
       "      <td>4.0</td>\n",
       "    </tr>\n",
       "    <tr>\n",
       "      <th>3</th>\n",
       "      <td>5.0</td>\n",
       "      <td>7.0</td>\n",
       "    </tr>\n",
       "    <tr>\n",
       "      <th>4</th>\n",
       "      <td>3.5</td>\n",
       "      <td>5.0</td>\n",
       "    </tr>\n",
       "    <tr>\n",
       "      <th>5</th>\n",
       "      <td>4.5</td>\n",
       "      <td>5.0</td>\n",
       "    </tr>\n",
       "    <tr>\n",
       "      <th>6</th>\n",
       "      <td>3.5</td>\n",
       "      <td>4.5</td>\n",
       "    </tr>\n",
       "  </tbody>\n",
       "</table>\n",
       "</div>"
      ],
      "text/plain": [
       "   Variable_1  Variable_2\n",
       "0         1.0         1.0\n",
       "1         1.5         2.0\n",
       "2         3.0         4.0\n",
       "3         5.0         7.0\n",
       "4         3.5         5.0\n",
       "5         4.5         5.0\n",
       "6         3.5         4.5"
      ]
     },
     "execution_count": 2,
     "metadata": {},
     "output_type": "execute_result"
    }
   ],
   "source": [
    "## this is our required data\n",
    "dataframe = pd.read_excel('/home/ashish/projects/UnsupervisedLearning_KMeansClustering/Clustering_ex.xlsx')\n",
    "dataframe"
   ]
  },
  {
   "cell_type": "code",
   "execution_count": 3,
   "id": "8d60ec6b",
   "metadata": {},
   "outputs": [
    {
     "data": {
      "text/plain": [
       "<Figure size 360x360 with 0 Axes>"
      ]
     },
     "metadata": {},
     "output_type": "display_data"
    },
    {
     "data": {
      "image/png": "[encoded data removed]",
      "text/plain": [
       "<Figure size 432x288 with 1 Axes>"
      ]
     },
     "metadata": {
      "needs_background": "light"
     },
     "output_type": "display_data"
    }
   ],
   "source": [
    "fig = plt.figure(figsize=(5,5))\n",
    "\n",
    "x = dataframe['Variable_1']\n",
    "y = dataframe['Variable_2']\n",
    "n = range(1,8)\n",
    "fig,ax = plt.subplots()\n",
    "ax.scatter(x,y,marker='o',color='red',alpha=0.5)\n",
    "plt.grid()\n",
    "plt.xlabel(\"Variable_1\")\n",
    "plt.ylabel(\"Variable_2\")\n",
    "for i,txt in enumerate(n):\n",
    "    ax.annotate(txt,(x[i],y[i]))"
   ]
  },
  {
   "cell_type": "code",
   "execution_count": 6,
   "id": "00b0dac1",
   "metadata": {},
   "outputs": [
    {
     "data": {
      "text/plain": [
       "KMeans(n_clusters=2)"
      ]
     },
     "execution_count": 6,
     "metadata": {},
     "output_type": "execute_result"
    }
   ],
   "source": [
    "## importing libraries for clustering\n",
    "from sklearn.cluster import KMeans\n",
    "\n",
    "kmeans = KMeans(n_clusters=2)\n",
    "kmeans.fit(dataframe)"
   ]
  },
  {
   "cell_type": "code",
   "execution_count": 7,
   "id": "c5775d05",
   "metadata": {},
   "outputs": [
    {
     "data": {
      "text/plain": [
       "array([0, 0, 1, 1, 1, 1, 1], dtype=int32)"
      ]
     },
     "execution_count": 7,
     "metadata": {},
     "output_type": "execute_result"
    }
   ],
   "source": [
    "## the types of label(i.e either 0 or 1) for each datapoint signifying the cluster it belongs to\n",
    "labels = kmeans.predict(dataframe)\n",
    "labels"
   ]
  },
  {
   "cell_type": "markdown",
   "id": "df57af2a",
   "metadata": {},
   "source": [
    "## So from above output of label values we can easily observe that::\n",
    "    1. first two data points belongs to one cluster.\n",
    "    2. The remainig data point belongs to another cluster."
   ]
  },
  {
   "cell_type": "code",
   "execution_count": 8,
   "id": "765c1e9d",
   "metadata": {},
   "outputs": [
    {
     "data": {
      "text/plain": [
       "array([[1.25, 1.5 ],\n",
       "       [3.9 , 5.1 ]])"
      ]
     },
     "execution_count": 8,
     "metadata": {},
     "output_type": "execute_result"
    }
   ],
   "source": [
    "## to find the centroids of our two clusters\n",
    "centroids = kmeans.cluster_centers_\n",
    "centroids"
   ]
  },
  {
   "cell_type": "markdown",
   "id": "c8726f2d",
   "metadata": {},
   "source": [
    "## So the centroids are::\n",
    "    1. for first cluster => (1,25,1,5)\n",
    "    2. for Second cluster => (3.9,5.1)"
   ]
  },
  {
   "cell_type": "code",
   "execution_count": 11,
   "id": "0c78f94c",
   "metadata": {},
   "outputs": [
    {
     "data": {
      "text/plain": [
       "<Figure size 360x360 with 0 Axes>"
      ]
     },
     "metadata": {},
     "output_type": "display_data"
    },
    {
     "data": {
      "image/png": "[encoded data removed]",
      "text/plain": [
       "<Figure size 432x288 with 1 Axes>"
      ]
     },
     "metadata": {
      "needs_background": "light"
     },
     "output_type": "display_data"
    }
   ],
   "source": [
    "fig = plt.figure(figsize=(5,5))\n",
    "color_map = {1:'r',2:'b'}\n",
    "\n",
    "## Defining a lambda function to automatically choose respective colors\n",
    "## for the data points of the two clusters formed\n",
    "colors = list(map(lambda x : color_map[x+1],labels))\n",
    "fig, ax = plt.subplots()\n",
    "ax.scatter(x,y,color=colors,alpha=0.5,edgecolor='k')  \n",
    "## The alpha is blending value, between 0 (transparent) and 1 (opaque).\n",
    "## \n",
    "\n",
    "## for choosing the color of two centroids\n",
    "for index,centroid in enumerate(centroids):\n",
    "    plt.scatter(*centroid,color=color_map[index+1])\n",
    "\n",
    "n = range(1,8)   ## Since 7 data points are there   \n",
    "for i,text in enumerate(n):\n",
    "    ax.annotate(txt,(x[i],y[i]))\n",
    "plt.grid()   ## method to show the grid lines in the background of scatter-plot\n",
    "plt.xlim(0,8)\n",
    "plt.ylim(0,8)\n",
    "plt.xlabel(\"Variable_1\")\n",
    "plt.ylabel(\"Variable_2\")\n",
    "plt.show()"
   ]
  },
  {
   "cell_type": "markdown",
   "id": "c8060678",
   "metadata": {},
   "source": [
    "## So this above scatter plot is representing the two main clusters which we were asked initially to find out."
   ]
  }
 ],
 "metadata": {
  "kernelspec": {
   "display_name": "Python 3",
   "language": "python",
   "name": "python3"
  },
  "language_info": {
   "codemirror_mode": {
    "name": "ipython",
    "version": 3
   },
   "file_extension": ".py",
   "mimetype": "text/x-python",
   "name": "python",
   "nbconvert_exporter": "python",
   "pygments_lexer": "ipython3",
   "version": "3.8.8"
  }
 },
 "nbformat": 4,
 "nbformat_minor": 5
}
